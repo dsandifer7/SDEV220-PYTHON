{
 "cells": [
  {
   "cell_type": "code",
   "execution_count": 1,
   "id": "26a05b77-ee43-447c-ab5f-1a5509add6c1",
   "metadata": {},
   "outputs": [
    {
     "name": "stdout",
     "output_type": "stream",
     "text": [
      "3600\n"
     ]
    }
   ],
   "source": [
    "second = 1\n",
    "minute = second * 60\n",
    "hour = minute * 60\n",
    "day = hour * 24\n",
    "seconds_per_hour = hour\n",
    "print(seconds_per_hour)"
   ]
  },
  {
   "cell_type": "code",
   "execution_count": null,
   "id": "a7e7fd53-9061-47c9-bf5c-4d7f5bc73f07",
   "metadata": {},
   "outputs": [],
   "source": [
    "#There are 3600 seconds in an hour"
   ]
  },
  {
   "cell_type": "code",
   "execution_count": 2,
   "id": "0975b2c2-643f-4bda-97a7-969323078e8e",
   "metadata": {},
   "outputs": [
    {
     "name": "stdout",
     "output_type": "stream",
     "text": [
      "86400\n"
     ]
    }
   ],
   "source": [
    "seconds_per_day = seconds_per_hour * 24\n",
    "print(seconds_per_day)"
   ]
  },
  {
   "cell_type": "code",
   "execution_count": null,
   "id": "ac355c41-9c58-4619-81fd-78e8c684d5bb",
   "metadata": {},
   "outputs": [],
   "source": [
    "#There are 86400 seconds in a day"
   ]
  },
  {
   "cell_type": "code",
   "execution_count": 3,
   "id": "2f5985d4-d74a-426c-a542-b37abc66f691",
   "metadata": {},
   "outputs": [
    {
     "name": "stdout",
     "output_type": "stream",
     "text": [
      "24.0\n"
     ]
    }
   ],
   "source": [
    "print(seconds_per_day/seconds_per_hour)"
   ]
  },
  {
   "cell_type": "code",
   "execution_count": 5,
   "id": "b13f3283-ca99-4af1-8ca9-41f4e582aa01",
   "metadata": {},
   "outputs": [
    {
     "name": "stdout",
     "output_type": "stream",
     "text": [
      "24\n"
     ]
    }
   ],
   "source": [
    "print(seconds_per_day//seconds_per_hour)"
   ]
  },
  {
   "cell_type": "code",
   "execution_count": null,
   "id": "3eb0f68d-310d-4f7c-86d5-9aceaca103b5",
   "metadata": {},
   "outputs": [],
   "source": [
    "#Yes the the results were the same aside from the .0"
   ]
  },
  {
   "cell_type": "code",
   "execution_count": null,
   "id": "3f34a82e-c45f-4571-a43c-c584c3ef58f9",
   "metadata": {},
   "outputs": [],
   "source": []
  }
 ],
 "metadata": {
  "kernelspec": {
   "display_name": "Python 3 (ipykernel)",
   "language": "python",
   "name": "python3"
  },
  "language_info": {
   "codemirror_mode": {
    "name": "ipython",
    "version": 3
   },
   "file_extension": ".py",
   "mimetype": "text/x-python",
   "name": "python",
   "nbconvert_exporter": "python",
   "pygments_lexer": "ipython3",
   "version": "3.12.7"
  }
 },
 "nbformat": 4,
 "nbformat_minor": 5
}
