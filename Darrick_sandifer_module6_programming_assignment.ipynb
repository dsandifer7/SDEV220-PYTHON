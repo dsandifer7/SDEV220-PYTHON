{
 "cells": [
  {
   "cell_type": "code",
   "execution_count": 5,
   "id": "eab2a74d",
   "metadata": {},
   "outputs": [],
   "source": [
    "from datetime import date\n",
    "\n",
    "current_date = date.today()\n",
    "with open(\"today.txt\", \"w\") as file:\n",
    "    file.write(f\"Today's date is {current_date.strftime('%m/%d/%Y')}\\n\")"
   ]
  },
  {
   "cell_type": "code",
   "execution_count": 6,
   "id": "a2304e0a",
   "metadata": {},
   "outputs": [],
   "source": [
    "with open(\"today.txt\", \"r\") as file:\n",
    "    today_string = file.read()"
   ]
  },
  {
   "cell_type": "code",
   "execution_count": 8,
   "id": "70a1e1d9",
   "metadata": {},
   "outputs": [],
   "source": [
    "from datetime import datetime\n",
    "parsed_date = datetime.strptime(today_string.strip(), \"Today's date is %m/%d/%Y\")"
   ]
  },
  {
   "cell_type": "code",
   "execution_count": 1,
   "id": "f7c187e7",
   "metadata": {},
   "outputs": [],
   "source": [
    "import multiprocessing\n",
    "import time\n",
    "import random\n",
    "from datetime import datetime\n",
    "\n",
    "def create_processes():\n",
    "    time.sleep(random.random())\n",
    "    print(datetime.now())\n",
    "\n",
    "if __name__ == \"__main__\":\n",
    "    for i in range(3):\n",
    "        go=multiprocessing.Process(target=create_processes)\n",
    "        go.start()"
   ]
  }
 ],
 "metadata": {
  "kernelspec": {
   "display_name": "base",
   "language": "python",
   "name": "python3"
  },
  "language_info": {
   "codemirror_mode": {
    "name": "ipython",
    "version": 3
   },
   "file_extension": ".py",
   "mimetype": "text/x-python",
   "name": "python",
   "nbconvert_exporter": "python",
   "pygments_lexer": "ipython3",
   "version": "3.12.4"
  }
 },
 "nbformat": 4,
 "nbformat_minor": 5
}
